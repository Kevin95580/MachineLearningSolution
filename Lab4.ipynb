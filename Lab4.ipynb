{
 "cells": [
  {
   "cell_type": "markdown",
   "id": "31965300",
   "metadata": {},
   "source": [
    "# Machine Learning - 2301CS621"
   ]
  },
  {
   "cell_type": "markdown",
   "id": "47265e70",
   "metadata": {},
   "source": [
    "# Kevin Kagathara"
   ]
  },
  {
   "cell_type": "markdown",
   "id": "86af9a09",
   "metadata": {},
   "source": [
    "# Enrollment No - 22010101080 "
   ]
  },
  {
   "cell_type": "markdown",
   "id": "dd4631cd",
   "metadata": {},
   "source": [
    "# Importing the libraries"
   ]
  },
  {
   "cell_type": "code",
   "execution_count": 2,
   "id": "c41652c5",
   "metadata": {},
   "outputs": [],
   "source": [
    "import pandas as pd\n",
    "import matplotlib.pyplot as plt\n",
    "from sklearn.linear_model import LinearRegression\n",
    "from sklearn.metrics import mean_squared_error"
   ]
  },
  {
   "cell_type": "markdown",
   "id": "fd08e5ff",
   "metadata": {},
   "source": [
    "# Read Dataset"
   ]
  },
  {
   "cell_type": "code",
   "execution_count": 3,
   "id": "e3a7dded",
   "metadata": {},
   "outputs": [
    {
     "data": {
      "text/html": [
       "<div>\n",
       "<style scoped>\n",
       "    .dataframe tbody tr th:only-of-type {\n",
       "        vertical-align: middle;\n",
       "    }\n",
       "\n",
       "    .dataframe tbody tr th {\n",
       "        vertical-align: top;\n",
       "    }\n",
       "\n",
       "    .dataframe thead th {\n",
       "        text-align: right;\n",
       "    }\n",
       "</style>\n",
       "<table border=\"1\" class=\"dataframe\">\n",
       "  <thead>\n",
       "    <tr style=\"text-align: right;\">\n",
       "      <th></th>\n",
       "      <th>Position</th>\n",
       "      <th>Level</th>\n",
       "      <th>Salary</th>\n",
       "    </tr>\n",
       "  </thead>\n",
       "  <tbody>\n",
       "    <tr>\n",
       "      <th>0</th>\n",
       "      <td>Business Analyst</td>\n",
       "      <td>1</td>\n",
       "      <td>45000</td>\n",
       "    </tr>\n",
       "    <tr>\n",
       "      <th>1</th>\n",
       "      <td>Junior Consultant</td>\n",
       "      <td>2</td>\n",
       "      <td>50000</td>\n",
       "    </tr>\n",
       "    <tr>\n",
       "      <th>2</th>\n",
       "      <td>Senior Consultant</td>\n",
       "      <td>3</td>\n",
       "      <td>60000</td>\n",
       "    </tr>\n",
       "    <tr>\n",
       "      <th>3</th>\n",
       "      <td>Manager</td>\n",
       "      <td>4</td>\n",
       "      <td>80000</td>\n",
       "    </tr>\n",
       "    <tr>\n",
       "      <th>4</th>\n",
       "      <td>Country Manager</td>\n",
       "      <td>5</td>\n",
       "      <td>110000</td>\n",
       "    </tr>\n",
       "    <tr>\n",
       "      <th>5</th>\n",
       "      <td>Region Manager</td>\n",
       "      <td>6</td>\n",
       "      <td>150000</td>\n",
       "    </tr>\n",
       "    <tr>\n",
       "      <th>6</th>\n",
       "      <td>Partner</td>\n",
       "      <td>7</td>\n",
       "      <td>200000</td>\n",
       "    </tr>\n",
       "    <tr>\n",
       "      <th>7</th>\n",
       "      <td>Senior Partner</td>\n",
       "      <td>8</td>\n",
       "      <td>300000</td>\n",
       "    </tr>\n",
       "    <tr>\n",
       "      <th>8</th>\n",
       "      <td>C-level</td>\n",
       "      <td>9</td>\n",
       "      <td>500000</td>\n",
       "    </tr>\n",
       "    <tr>\n",
       "      <th>9</th>\n",
       "      <td>CEO</td>\n",
       "      <td>10</td>\n",
       "      <td>1000000</td>\n",
       "    </tr>\n",
       "  </tbody>\n",
       "</table>\n",
       "</div>"
      ],
      "text/plain": [
       "            Position  Level   Salary\n",
       "0   Business Analyst      1    45000\n",
       "1  Junior Consultant      2    50000\n",
       "2  Senior Consultant      3    60000\n",
       "3            Manager      4    80000\n",
       "4    Country Manager      5   110000\n",
       "5     Region Manager      6   150000\n",
       "6            Partner      7   200000\n",
       "7     Senior Partner      8   300000\n",
       "8            C-level      9   500000\n",
       "9                CEO     10  1000000"
      ]
     },
     "execution_count": 3,
     "metadata": {},
     "output_type": "execute_result"
    }
   ],
   "source": [
    "df = pd.read_csv('Position_Salaries.csv')\n",
    "df"
   ]
  },
  {
   "cell_type": "markdown",
   "id": "38780dac",
   "metadata": {},
   "source": [
    "# Plot the data using scatter plot"
   ]
  },
  {
   "cell_type": "code",
   "execution_count": 4,
   "id": "f6586093",
   "metadata": {},
   "outputs": [
    {
     "data": {
      "text/plain": [
       "<matplotlib.collections.PathCollection at 0x1c19bb0a110>"
      ]
     },
     "execution_count": 4,
     "metadata": {},
     "output_type": "execute_result"
    },
    {
     "data": {
      "image/png": "[encoded data removed]",
      "text/plain": [
       "<Figure size 640x480 with 1 Axes>"
      ]
     },
     "metadata": {},
     "output_type": "display_data"
    }
   ],
   "source": [
    "plt.scatter(df.Level,df.Salary)"
   ]
  },
  {
   "cell_type": "code",
   "execution_count": 5,
   "id": "03266139",
   "metadata": {},
   "outputs": [],
   "source": [
    "model = LinearRegression()"
   ]
  },
  {
   "cell_type": "markdown",
   "id": "b3ad4c9d",
   "metadata": {},
   "source": [
    "# Splitting the dataset into the Training set and Test set"
   ]
  },
  {
   "cell_type": "code",
   "execution_count": 7,
   "id": "6fe88603",
   "metadata": {},
   "outputs": [
    {
     "data": {
      "text/html": [
       "<div>\n",
       "<style scoped>\n",
       "    .dataframe tbody tr th:only-of-type {\n",
       "        vertical-align: middle;\n",
       "    }\n",
       "\n",
       "    .dataframe tbody tr th {\n",
       "        vertical-align: top;\n",
       "    }\n",
       "\n",
       "    .dataframe thead th {\n",
       "        text-align: right;\n",
       "    }\n",
       "</style>\n",
       "<table border=\"1\" class=\"dataframe\">\n",
       "  <thead>\n",
       "    <tr style=\"text-align: right;\">\n",
       "      <th></th>\n",
       "      <th>Level</th>\n",
       "    </tr>\n",
       "  </thead>\n",
       "  <tbody>\n",
       "    <tr>\n",
       "      <th>0</th>\n",
       "      <td>1</td>\n",
       "    </tr>\n",
       "    <tr>\n",
       "      <th>1</th>\n",
       "      <td>2</td>\n",
       "    </tr>\n",
       "    <tr>\n",
       "      <th>2</th>\n",
       "      <td>3</td>\n",
       "    </tr>\n",
       "    <tr>\n",
       "      <th>3</th>\n",
       "      <td>4</td>\n",
       "    </tr>\n",
       "    <tr>\n",
       "      <th>4</th>\n",
       "      <td>5</td>\n",
       "    </tr>\n",
       "    <tr>\n",
       "      <th>5</th>\n",
       "      <td>6</td>\n",
       "    </tr>\n",
       "    <tr>\n",
       "      <th>6</th>\n",
       "      <td>7</td>\n",
       "    </tr>\n",
       "    <tr>\n",
       "      <th>7</th>\n",
       "      <td>8</td>\n",
       "    </tr>\n",
       "    <tr>\n",
       "      <th>8</th>\n",
       "      <td>9</td>\n",
       "    </tr>\n",
       "    <tr>\n",
       "      <th>9</th>\n",
       "      <td>10</td>\n",
       "    </tr>\n",
       "  </tbody>\n",
       "</table>\n",
       "</div>"
      ],
      "text/plain": [
       "   Level\n",
       "0      1\n",
       "1      2\n",
       "2      3\n",
       "3      4\n",
       "4      5\n",
       "5      6\n",
       "6      7\n",
       "7      8\n",
       "8      9\n",
       "9     10"
      ]
     },
     "execution_count": 7,
     "metadata": {},
     "output_type": "execute_result"
    }
   ],
   "source": [
    "# X = df['Level'].values.reshape(-1,1)\n",
    "X = df.iloc[::,1:2:]\n",
    "Y = df['Salary']\n",
    "X"
   ]
  },
  {
   "cell_type": "code",
   "execution_count": 8,
   "id": "8d675786",
   "metadata": {},
   "outputs": [],
   "source": [
    "from sklearn.model_selection import train_test_split"
   ]
  },
  {
   "cell_type": "code",
   "execution_count": 9,
   "id": "3bc85935",
   "metadata": {},
   "outputs": [
    {
     "data": {
      "text/html": [
       "<div>\n",
       "<style scoped>\n",
       "    .dataframe tbody tr th:only-of-type {\n",
       "        vertical-align: middle;\n",
       "    }\n",
       "\n",
       "    .dataframe tbody tr th {\n",
       "        vertical-align: top;\n",
       "    }\n",
       "\n",
       "    .dataframe thead th {\n",
       "        text-align: right;\n",
       "    }\n",
       "</style>\n",
       "<table border=\"1\" class=\"dataframe\">\n",
       "  <thead>\n",
       "    <tr style=\"text-align: right;\">\n",
       "      <th></th>\n",
       "      <th>Level</th>\n",
       "    </tr>\n",
       "  </thead>\n",
       "  <tbody>\n",
       "    <tr>\n",
       "      <th>4</th>\n",
       "      <td>5</td>\n",
       "    </tr>\n",
       "    <tr>\n",
       "      <th>7</th>\n",
       "      <td>8</td>\n",
       "    </tr>\n",
       "    <tr>\n",
       "      <th>1</th>\n",
       "      <td>2</td>\n",
       "    </tr>\n",
       "    <tr>\n",
       "      <th>0</th>\n",
       "      <td>1</td>\n",
       "    </tr>\n",
       "    <tr>\n",
       "      <th>8</th>\n",
       "      <td>9</td>\n",
       "    </tr>\n",
       "    <tr>\n",
       "      <th>6</th>\n",
       "      <td>7</td>\n",
       "    </tr>\n",
       "    <tr>\n",
       "      <th>3</th>\n",
       "      <td>4</td>\n",
       "    </tr>\n",
       "  </tbody>\n",
       "</table>\n",
       "</div>"
      ],
      "text/plain": [
       "   Level\n",
       "4      5\n",
       "7      8\n",
       "1      2\n",
       "0      1\n",
       "8      9\n",
       "6      7\n",
       "3      4"
      ]
     },
     "execution_count": 9,
     "metadata": {},
     "output_type": "execute_result"
    }
   ],
   "source": [
    "x_train,x_test,y_train,y_test = train_test_split(X,Y,train_size=0.7,random_state=5)\n",
    "x_train"
   ]
  },
  {
   "cell_type": "markdown",
   "id": "991c1d0e",
   "metadata": {},
   "source": [
    "# Fitting Linear Regression to the dataset"
   ]
  },
  {
   "cell_type": "code",
   "execution_count": 10,
   "id": "c8c88275",
   "metadata": {},
   "outputs": [
    {
     "data": {
      "text/html": [
       "<style>#sk-container-id-1 {color: black;}#sk-container-id-1 pre{padding: 0;}#sk-container-id-1 div.sk-toggleable {background-color: white;}#sk-container-id-1 label.sk-toggleable__label {cursor: pointer;display: block;width: 100%;margin-bottom: 0;padding: 0.3em;box-sizing: border-box;text-align: center;}#sk-container-id-1 label.sk-toggleable__label-arrow:before {content: \"▸\";float: left;margin-right: 0.25em;color: #696969;}#sk-container-id-1 label.sk-toggleable__label-arrow:hover:before {color: black;}#sk-container-id-1 div.sk-estimator:hover label.sk-toggleable__label-arrow:before {color: black;}#sk-container-id-1 div.sk-toggleable__content {max-height: 0;max-width: 0;overflow: hidden;text-align: left;background-color: #f0f8ff;}#sk-container-id-1 div.sk-toggleable__content pre {margin: 0.2em;color: black;border-radius: 0.25em;background-color: #f0f8ff;}#sk-container-id-1 input.sk-toggleable__control:checked~div.sk-toggleable__content {max-height: 200px;max-width: 100%;overflow: auto;}#sk-container-id-1 input.sk-toggleable__control:checked~label.sk-toggleable__label-arrow:before {content: \"▾\";}#sk-container-id-1 div.sk-estimator input.sk-toggleable__control:checked~label.sk-toggleable__label {background-color: #d4ebff;}#sk-container-id-1 div.sk-label input.sk-toggleable__control:checked~label.sk-toggleable__label {background-color: #d4ebff;}#sk-container-id-1 input.sk-hidden--visually {border: 0;clip: rect(1px 1px 1px 1px);clip: rect(1px, 1px, 1px, 1px);height: 1px;margin: -1px;overflow: hidden;padding: 0;position: absolute;width: 1px;}#sk-container-id-1 div.sk-estimator {font-family: monospace;background-color: #f0f8ff;border: 1px dotted black;border-radius: 0.25em;box-sizing: border-box;margin-bottom: 0.5em;}#sk-container-id-1 div.sk-estimator:hover {background-color: #d4ebff;}#sk-container-id-1 div.sk-parallel-item::after {content: \"\";width: 100%;border-bottom: 1px solid gray;flex-grow: 1;}#sk-container-id-1 div.sk-label:hover label.sk-toggleable__label {background-color: #d4ebff;}#sk-container-id-1 div.sk-serial::before {content: \"\";position: absolute;border-left: 1px solid gray;box-sizing: border-box;top: 0;bottom: 0;left: 50%;z-index: 0;}#sk-container-id-1 div.sk-serial {display: flex;flex-direction: column;align-items: center;background-color: white;padding-right: 0.2em;padding-left: 0.2em;position: relative;}#sk-container-id-1 div.sk-item {position: relative;z-index: 1;}#sk-container-id-1 div.sk-parallel {display: flex;align-items: stretch;justify-content: center;background-color: white;position: relative;}#sk-container-id-1 div.sk-item::before, #sk-container-id-1 div.sk-parallel-item::before {content: \"\";position: absolute;border-left: 1px solid gray;box-sizing: border-box;top: 0;bottom: 0;left: 50%;z-index: -1;}#sk-container-id-1 div.sk-parallel-item {display: flex;flex-direction: column;z-index: 1;position: relative;background-color: white;}#sk-container-id-1 div.sk-parallel-item:first-child::after {align-self: flex-end;width: 50%;}#sk-container-id-1 div.sk-parallel-item:last-child::after {align-self: flex-start;width: 50%;}#sk-container-id-1 div.sk-parallel-item:only-child::after {width: 0;}#sk-container-id-1 div.sk-dashed-wrapped {border: 1px dashed gray;margin: 0 0.4em 0.5em 0.4em;box-sizing: border-box;padding-bottom: 0.4em;background-color: white;}#sk-container-id-1 div.sk-label label {font-family: monospace;font-weight: bold;display: inline-block;line-height: 1.2em;}#sk-container-id-1 div.sk-label-container {text-align: center;}#sk-container-id-1 div.sk-container {/* jupyter's `normalize.less` sets `[hidden] { display: none; }` but bootstrap.min.css set `[hidden] { display: none !important; }` so we also need the `!important` here to be able to override the default hidden behavior on the sphinx rendered scikit-learn.org. See: https://github.com/scikit-learn/scikit-learn/issues/21755 */display: inline-block !important;position: relative;}#sk-container-id-1 div.sk-text-repr-fallback {display: none;}</style><div id=\"sk-container-id-1\" class=\"sk-top-container\"><div class=\"sk-text-repr-fallback\"><pre>LinearRegression()</pre><b>In a Jupyter environment, please rerun this cell to show the HTML representation or trust the notebook. <br />On GitHub, the HTML representation is unable to render, please try loading this page with nbviewer.org.</b></div><div class=\"sk-container\" hidden><div class=\"sk-item\"><div class=\"sk-estimator sk-toggleable\"><input class=\"sk-toggleable__control sk-hidden--visually\" id=\"sk-estimator-id-1\" type=\"checkbox\" checked><label for=\"sk-estimator-id-1\" class=\"sk-toggleable__label sk-toggleable__label-arrow\">LinearRegression</label><div class=\"sk-toggleable__content\"><pre>LinearRegression()</pre></div></div></div></div></div>"
      ],
      "text/plain": [
       "LinearRegression()"
      ]
     },
     "execution_count": 10,
     "metadata": {},
     "output_type": "execute_result"
    }
   ],
   "source": [
    "model.fit(x_train,y_train)"
   ]
  },
  {
   "cell_type": "code",
   "execution_count": 11,
   "id": "cfc09b28",
   "metadata": {},
   "outputs": [
    {
     "name": "stderr",
     "output_type": "stream",
     "text": [
      "C:\\Users\\kpkag\\anaconda3\\Lib\\site-packages\\sklearn\\base.py:464: UserWarning: X does not have valid feature names, but LinearRegression was fitted with feature names\n",
      "  warnings.warn(\n"
     ]
    },
    {
     "data": {
      "text/plain": [
       "array([275195.3125])"
      ]
     },
     "execution_count": 11,
     "metadata": {},
     "output_type": "execute_result"
    }
   ],
   "source": [
    "model.predict([[7]])"
   ]
  },
  {
   "cell_type": "markdown",
   "id": "133e9b43",
   "metadata": {},
   "source": [
    "# Predict the x_test using Linear Model"
   ]
  },
  {
   "cell_type": "code",
   "execution_count": 12,
   "id": "60cdc2f6",
   "metadata": {},
   "outputs": [
    {
     "data": {
      "text/plain": [
       "array([423203.125 , 225859.375 ,  77851.5625])"
      ]
     },
     "execution_count": 12,
     "metadata": {},
     "output_type": "execute_result"
    }
   ],
   "source": [
    "y_predict = model.predict(x_test)\n",
    "y_predict"
   ]
  },
  {
   "cell_type": "markdown",
   "id": "884c7829",
   "metadata": {},
   "source": [
    "# Visualising the Linear Regression results"
   ]
  },
  {
   "cell_type": "code",
   "execution_count": 13,
   "id": "40606626",
   "metadata": {},
   "outputs": [
    {
     "data": {
      "text/plain": [
       "<matplotlib.collections.PathCollection at 0x1c19c3f63d0>"
      ]
     },
     "execution_count": 13,
     "metadata": {},
     "output_type": "execute_result"
    },
    {
     "data": {
      "image/png": "[encoded data removed]",
      "text/plain": [
       "<Figure size 640x480 with 1 Axes>"
      ]
     },
     "metadata": {},
     "output_type": "display_data"
    }
   ],
   "source": [
    "plt.scatter(x_test,y_test)\n",
    "plt.scatter(x_test,y_predict)"
   ]
  },
  {
   "cell_type": "code",
   "execution_count": 14,
   "id": "f91142e8",
   "metadata": {},
   "outputs": [
    {
     "data": {
      "text/plain": [
       "[<matplotlib.lines.Line2D at 0x1c19c443950>]"
      ]
     },
     "execution_count": 14,
     "metadata": {},
     "output_type": "execute_result"
    },
    {
     "data": {
      "image/png": "[encoded data removed]",
      "text/plain": [
       "<Figure size 640x480 with 1 Axes>"
      ]
     },
     "metadata": {},
     "output_type": "display_data"
    }
   ],
   "source": [
    "plt.scatter(x_test,y_predict)\n",
    "plt.plot(x_test,y_predict)"
   ]
  },
  {
   "cell_type": "code",
   "execution_count": 15,
   "id": "720856c9",
   "metadata": {},
   "outputs": [
    {
     "data": {
      "text/plain": [
       "112922652689.61592"
      ]
     },
     "execution_count": 15,
     "metadata": {},
     "output_type": "execute_result"
    }
   ],
   "source": [
    "mean_squared_error(y_test,y_predict)"
   ]
  },
  {
   "cell_type": "markdown",
   "id": "63800383",
   "metadata": {},
   "source": [
    "# Fitting Polynomial Regression to the dataset"
   ]
  },
  {
   "cell_type": "markdown",
   "id": "c49b9f7d",
   "metadata": {},
   "source": [
    "## import  PolynomialFeatures"
   ]
  },
  {
   "cell_type": "code",
   "execution_count": 16,
   "id": "a5630957",
   "metadata": {},
   "outputs": [],
   "source": [
    "from sklearn.preprocessing import PolynomialFeatures"
   ]
  },
  {
   "cell_type": "markdown",
   "id": "d3f6cfab",
   "metadata": {},
   "source": [
    "## create PolynomialFeatures of degree 4"
   ]
  },
  {
   "cell_type": "code",
   "execution_count": 17,
   "id": "aa4c8e10",
   "metadata": {},
   "outputs": [],
   "source": [
    "poly = PolynomialFeatures(degree = 4)"
   ]
  },
  {
   "cell_type": "markdown",
   "id": "b3b457e8",
   "metadata": {},
   "source": [
    "## Apply fit_transform to features"
   ]
  },
  {
   "cell_type": "code",
   "execution_count": 18,
   "id": "c64cb186",
   "metadata": {},
   "outputs": [
    {
     "data": {
      "text/plain": [
       "array([[1.000e+00, 5.000e+00, 2.500e+01, 1.250e+02, 6.250e+02],\n",
       "       [1.000e+00, 8.000e+00, 6.400e+01, 5.120e+02, 4.096e+03],\n",
       "       [1.000e+00, 2.000e+00, 4.000e+00, 8.000e+00, 1.600e+01],\n",
       "       [1.000e+00, 1.000e+00, 1.000e+00, 1.000e+00, 1.000e+00],\n",
       "       [1.000e+00, 9.000e+00, 8.100e+01, 7.290e+02, 6.561e+03],\n",
       "       [1.000e+00, 7.000e+00, 4.900e+01, 3.430e+02, 2.401e+03],\n",
       "       [1.000e+00, 4.000e+00, 1.600e+01, 6.400e+01, 2.560e+02]])"
      ]
     },
     "execution_count": 18,
     "metadata": {},
     "output_type": "execute_result"
    }
   ],
   "source": [
    "x1 = poly.fit_transform(x_train)\n",
    "x1"
   ]
  },
  {
   "cell_type": "markdown",
   "id": "e9a3be39",
   "metadata": {},
   "source": [
    "## View new  Features"
   ]
  },
  {
   "cell_type": "code",
   "execution_count": null,
   "id": "21ff0e5f",
   "metadata": {},
   "outputs": [],
   "source": []
  },
  {
   "cell_type": "markdown",
   "id": "3b9ada22",
   "metadata": {},
   "source": [
    "## Fitting Polynomial Regression to the dataset"
   ]
  },
  {
   "cell_type": "code",
   "execution_count": 19,
   "id": "73814de6",
   "metadata": {},
   "outputs": [
    {
     "data": {
      "text/html": [
       "<style>#sk-container-id-2 {color: black;}#sk-container-id-2 pre{padding: 0;}#sk-container-id-2 div.sk-toggleable {background-color: white;}#sk-container-id-2 label.sk-toggleable__label {cursor: pointer;display: block;width: 100%;margin-bottom: 0;padding: 0.3em;box-sizing: border-box;text-align: center;}#sk-container-id-2 label.sk-toggleable__label-arrow:before {content: \"▸\";float: left;margin-right: 0.25em;color: #696969;}#sk-container-id-2 label.sk-toggleable__label-arrow:hover:before {color: black;}#sk-container-id-2 div.sk-estimator:hover label.sk-toggleable__label-arrow:before {color: black;}#sk-container-id-2 div.sk-toggleable__content {max-height: 0;max-width: 0;overflow: hidden;text-align: left;background-color: #f0f8ff;}#sk-container-id-2 div.sk-toggleable__content pre {margin: 0.2em;color: black;border-radius: 0.25em;background-color: #f0f8ff;}#sk-container-id-2 input.sk-toggleable__control:checked~div.sk-toggleable__content {max-height: 200px;max-width: 100%;overflow: auto;}#sk-container-id-2 input.sk-toggleable__control:checked~label.sk-toggleable__label-arrow:before {content: \"▾\";}#sk-container-id-2 div.sk-estimator input.sk-toggleable__control:checked~label.sk-toggleable__label {background-color: #d4ebff;}#sk-container-id-2 div.sk-label input.sk-toggleable__control:checked~label.sk-toggleable__label {background-color: #d4ebff;}#sk-container-id-2 input.sk-hidden--visually {border: 0;clip: rect(1px 1px 1px 1px);clip: rect(1px, 1px, 1px, 1px);height: 1px;margin: -1px;overflow: hidden;padding: 0;position: absolute;width: 1px;}#sk-container-id-2 div.sk-estimator {font-family: monospace;background-color: #f0f8ff;border: 1px dotted black;border-radius: 0.25em;box-sizing: border-box;margin-bottom: 0.5em;}#sk-container-id-2 div.sk-estimator:hover {background-color: #d4ebff;}#sk-container-id-2 div.sk-parallel-item::after {content: \"\";width: 100%;border-bottom: 1px solid gray;flex-grow: 1;}#sk-container-id-2 div.sk-label:hover label.sk-toggleable__label {background-color: #d4ebff;}#sk-container-id-2 div.sk-serial::before {content: \"\";position: absolute;border-left: 1px solid gray;box-sizing: border-box;top: 0;bottom: 0;left: 50%;z-index: 0;}#sk-container-id-2 div.sk-serial {display: flex;flex-direction: column;align-items: center;background-color: white;padding-right: 0.2em;padding-left: 0.2em;position: relative;}#sk-container-id-2 div.sk-item {position: relative;z-index: 1;}#sk-container-id-2 div.sk-parallel {display: flex;align-items: stretch;justify-content: center;background-color: white;position: relative;}#sk-container-id-2 div.sk-item::before, #sk-container-id-2 div.sk-parallel-item::before {content: \"\";position: absolute;border-left: 1px solid gray;box-sizing: border-box;top: 0;bottom: 0;left: 50%;z-index: -1;}#sk-container-id-2 div.sk-parallel-item {display: flex;flex-direction: column;z-index: 1;position: relative;background-color: white;}#sk-container-id-2 div.sk-parallel-item:first-child::after {align-self: flex-end;width: 50%;}#sk-container-id-2 div.sk-parallel-item:last-child::after {align-self: flex-start;width: 50%;}#sk-container-id-2 div.sk-parallel-item:only-child::after {width: 0;}#sk-container-id-2 div.sk-dashed-wrapped {border: 1px dashed gray;margin: 0 0.4em 0.5em 0.4em;box-sizing: border-box;padding-bottom: 0.4em;background-color: white;}#sk-container-id-2 div.sk-label label {font-family: monospace;font-weight: bold;display: inline-block;line-height: 1.2em;}#sk-container-id-2 div.sk-label-container {text-align: center;}#sk-container-id-2 div.sk-container {/* jupyter's `normalize.less` sets `[hidden] { display: none; }` but bootstrap.min.css set `[hidden] { display: none !important; }` so we also need the `!important` here to be able to override the default hidden behavior on the sphinx rendered scikit-learn.org. See: https://github.com/scikit-learn/scikit-learn/issues/21755 */display: inline-block !important;position: relative;}#sk-container-id-2 div.sk-text-repr-fallback {display: none;}</style><div id=\"sk-container-id-2\" class=\"sk-top-container\"><div class=\"sk-text-repr-fallback\"><pre>LinearRegression()</pre><b>In a Jupyter environment, please rerun this cell to show the HTML representation or trust the notebook. <br />On GitHub, the HTML representation is unable to render, please try loading this page with nbviewer.org.</b></div><div class=\"sk-container\" hidden><div class=\"sk-item\"><div class=\"sk-estimator sk-toggleable\"><input class=\"sk-toggleable__control sk-hidden--visually\" id=\"sk-estimator-id-2\" type=\"checkbox\" checked><label for=\"sk-estimator-id-2\" class=\"sk-toggleable__label sk-toggleable__label-arrow\">LinearRegression</label><div class=\"sk-toggleable__content\"><pre>LinearRegression()</pre></div></div></div></div></div>"
      ],
      "text/plain": [
       "LinearRegression()"
      ]
     },
     "execution_count": 19,
     "metadata": {},
     "output_type": "execute_result"
    }
   ],
   "source": [
    "model = LinearRegression()\n",
    "model.fit(x1,y_train)"
   ]
  },
  {
   "cell_type": "markdown",
   "id": "d03d4306",
   "metadata": {},
   "source": [
    "# Create Grid for higher resolution and smoother curve"
   ]
  },
  {
   "cell_type": "code",
   "execution_count": null,
   "id": "c9b4757a",
   "metadata": {},
   "outputs": [],
   "source": []
  },
  {
   "cell_type": "code",
   "execution_count": null,
   "id": "2d2f1480",
   "metadata": {},
   "outputs": [],
   "source": []
  },
  {
   "cell_type": "markdown",
   "id": "c6530b33",
   "metadata": {},
   "source": [
    "# Predict the x_test using Polynomial Regression"
   ]
  },
  {
   "cell_type": "code",
   "execution_count": 20,
   "id": "328654a4",
   "metadata": {},
   "outputs": [
    {
     "data": {
      "text/plain": [
       "array([822834.63128092, 139345.060544  ,  63795.32738909])"
      ]
     },
     "execution_count": 20,
     "metadata": {},
     "output_type": "execute_result"
    }
   ],
   "source": [
    "y_poly_predict = model.predict(poly.fit_transform(x_test))\n",
    "y_poly_predict"
   ]
  },
  {
   "cell_type": "code",
   "execution_count": 21,
   "id": "d2cfe9ba",
   "metadata": {},
   "outputs": [
    {
     "data": {
      "text/plain": [
       "array([423203.125 , 225859.375 ,  77851.5625])"
      ]
     },
     "execution_count": 21,
     "metadata": {},
     "output_type": "execute_result"
    }
   ],
   "source": [
    "y_predict"
   ]
  },
  {
   "cell_type": "code",
   "execution_count": 22,
   "id": "28123abd",
   "metadata": {},
   "outputs": [
    {
     "data": {
      "text/plain": [
       "array([822834.63128092, 139345.060544  ,  63795.32738909])"
      ]
     },
     "execution_count": 22,
     "metadata": {},
     "output_type": "execute_result"
    }
   ],
   "source": [
    "y_poly_predict"
   ]
  },
  {
   "cell_type": "markdown",
   "id": "6a2051bc",
   "metadata": {},
   "source": [
    "# Visualising the Linear Regression results"
   ]
  },
  {
   "cell_type": "code",
   "execution_count": 23,
   "id": "9fb82446",
   "metadata": {},
   "outputs": [
    {
     "data": {
      "text/plain": [
       "<matplotlib.collections.PathCollection at 0x1c19ba4ac90>"
      ]
     },
     "execution_count": 23,
     "metadata": {},
     "output_type": "execute_result"
    },
    {
     "data": {
      "image/png": "[encoded data removed]",
      "text/plain": [
       "<Figure size 640x480 with 1 Axes>"
      ]
     },
     "metadata": {},
     "output_type": "display_data"
    }
   ],
   "source": [
    "plt.scatter(x_test,y_test)\n",
    "plt.scatter(x_test,y_poly_predict)"
   ]
  },
  {
   "cell_type": "code",
   "execution_count": 26,
   "id": "d21c2f18",
   "metadata": {},
   "outputs": [
    {
     "data": {
      "text/plain": [
       "[<matplotlib.lines.Line2D at 0x1c19d784f10>]"
      ]
     },
     "execution_count": 26,
     "metadata": {},
     "output_type": "execute_result"
    },
    {
     "data": {
      "image/png": "[encoded data removed]",
      "text/plain": [
       "<Figure size 640x480 with 1 Axes>"
      ]
     },
     "metadata": {},
     "output_type": "display_data"
    }
   ],
   "source": [
    "plt.scatter(x_test,y_poly_predict)\n",
    "plt.plot(x_test,y_poly_predict)"
   ]
  },
  {
   "cell_type": "code",
   "execution_count": 27,
   "id": "a40350b3",
   "metadata": {},
   "outputs": [
    {
     "data": {
      "text/plain": [
       "array([ 46159.70006247,  47076.91871715,  63795.32738909,  84715.07206991,\n",
       "       107553.48017508, 139345.060544  , 196441.50343994, 304511.68055006,\n",
       "       498541.6449854 , 822834.63128092])"
      ]
     },
     "execution_count": 27,
     "metadata": {},
     "output_type": "execute_result"
    }
   ],
   "source": [
    "# now for all records of X\n",
    "y_poly_predict_for_all = model.predict(poly.fit_transform(X))\n",
    "y_poly_predict_for_all"
   ]
  },
  {
   "cell_type": "code",
   "execution_count": 30,
   "id": "60052bc7",
   "metadata": {},
   "outputs": [
    {
     "data": {
      "text/plain": [
       "[<matplotlib.lines.Line2D at 0x1c19dae1110>]"
      ]
     },
     "execution_count": 30,
     "metadata": {},
     "output_type": "execute_result"
    },
    {
     "data": {
      "image/png": "[encoded data removed]",
      "text/plain": [
       "<Figure size 640x480 with 1 Axes>"
      ]
     },
     "metadata": {},
     "output_type": "display_data"
    }
   ],
   "source": [
    "plt.scatter(X,Y)\n",
    "plt.scatter(X,y_poly_predict_for_all)\n",
    "plt.plot(X,y_poly_predict_for_all)"
   ]
  },
  {
   "cell_type": "code",
   "execution_count": 36,
   "id": "2ecb4628",
   "metadata": {},
   "outputs": [
    {
     "data": {
      "text/plain": [
       "[<matplotlib.lines.Line2D at 0x1c19df94290>]"
      ]
     },
     "execution_count": 36,
     "metadata": {},
     "output_type": "execute_result"
    },
    {
     "data": {
      "image/png": "[encoded data removed]",
      "text/plain": [
       "<Figure size 640x480 with 1 Axes>"
      ]
     },
     "metadata": {},
     "output_type": "display_data"
    }
   ],
   "source": [
    "plt.scatter(X,Y)\n",
    "plt.plot(X,y_poly_predict_for_all)"
   ]
  },
  {
   "cell_type": "code",
   "execution_count": 37,
   "id": "67b90338",
   "metadata": {},
   "outputs": [
    {
     "data": {
      "text/plain": [
       "3158875174.897056"
      ]
     },
     "execution_count": 37,
     "metadata": {},
     "output_type": "execute_result"
    }
   ],
   "source": [
    "mean_error_poly = mean_squared_error(Y,y_poly_predict_for_all)\n",
    "mean_error_poly"
   ]
  },
  {
   "cell_type": "code",
   "execution_count": 38,
   "id": "50241341",
   "metadata": {},
   "outputs": [],
   "source": [
    "import numpy as np\n"
   ]
  },
  {
   "cell_type": "code",
   "execution_count": 39,
   "id": "9ea0e0cd",
   "metadata": {},
   "outputs": [
    {
     "data": {
      "text/plain": [
       "array([[1. ],\n",
       "       [1.1],\n",
       "       [1.2],\n",
       "       [1.3],\n",
       "       [1.4],\n",
       "       [1.5],\n",
       "       [1.6],\n",
       "       [1.7],\n",
       "       [1.8],\n",
       "       [1.9],\n",
       "       [2. ],\n",
       "       [2.1],\n",
       "       [2.2],\n",
       "       [2.3],\n",
       "       [2.4],\n",
       "       [2.5],\n",
       "       [2.6],\n",
       "       [2.7],\n",
       "       [2.8],\n",
       "       [2.9],\n",
       "       [3. ],\n",
       "       [3.1],\n",
       "       [3.2],\n",
       "       [3.3],\n",
       "       [3.4],\n",
       "       [3.5],\n",
       "       [3.6],\n",
       "       [3.7],\n",
       "       [3.8],\n",
       "       [3.9],\n",
       "       [4. ],\n",
       "       [4.1],\n",
       "       [4.2],\n",
       "       [4.3],\n",
       "       [4.4],\n",
       "       [4.5],\n",
       "       [4.6],\n",
       "       [4.7],\n",
       "       [4.8],\n",
       "       [4.9],\n",
       "       [5. ],\n",
       "       [5.1],\n",
       "       [5.2],\n",
       "       [5.3],\n",
       "       [5.4],\n",
       "       [5.5],\n",
       "       [5.6],\n",
       "       [5.7],\n",
       "       [5.8],\n",
       "       [5.9],\n",
       "       [6. ],\n",
       "       [6.1],\n",
       "       [6.2],\n",
       "       [6.3],\n",
       "       [6.4],\n",
       "       [6.5],\n",
       "       [6.6],\n",
       "       [6.7],\n",
       "       [6.8],\n",
       "       [6.9],\n",
       "       [7. ],\n",
       "       [7.1],\n",
       "       [7.2],\n",
       "       [7.3],\n",
       "       [7.4],\n",
       "       [7.5],\n",
       "       [7.6],\n",
       "       [7.7],\n",
       "       [7.8],\n",
       "       [7.9],\n",
       "       [8. ],\n",
       "       [8.1],\n",
       "       [8.2],\n",
       "       [8.3],\n",
       "       [8.4],\n",
       "       [8.5],\n",
       "       [8.6],\n",
       "       [8.7],\n",
       "       [8.8],\n",
       "       [8.9],\n",
       "       [9. ],\n",
       "       [9.1],\n",
       "       [9.2],\n",
       "       [9.3],\n",
       "       [9.4],\n",
       "       [9.5],\n",
       "       [9.6],\n",
       "       [9.7],\n",
       "       [9.8],\n",
       "       [9.9]])"
      ]
     },
     "execution_count": 39,
     "metadata": {},
     "output_type": "execute_result"
    }
   ],
   "source": [
    "arr = np.arange(1,10,0.1).reshape(-1,1)\n",
    "arr\n"
   ]
  },
  {
   "cell_type": "code",
   "execution_count": 40,
   "id": "ed9f52f7",
   "metadata": {},
   "outputs": [
    {
     "data": {
      "text/plain": [
       "array([[1.0000000e+00, 1.0000000e+00, 1.0000000e+00, 1.0000000e+00,\n",
       "        1.0000000e+00],\n",
       "       [1.0000000e+00, 1.1000000e+00, 1.2100000e+00, 1.3310000e+00,\n",
       "        1.4641000e+00],\n",
       "       [1.0000000e+00, 1.2000000e+00, 1.4400000e+00, 1.7280000e+00,\n",
       "        2.0736000e+00],\n",
       "       [1.0000000e+00, 1.3000000e+00, 1.6900000e+00, 2.1970000e+00,\n",
       "        2.8561000e+00],\n",
       "       [1.0000000e+00, 1.4000000e+00, 1.9600000e+00, 2.7440000e+00,\n",
       "        3.8416000e+00],\n",
       "       [1.0000000e+00, 1.5000000e+00, 2.2500000e+00, 3.3750000e+00,\n",
       "        5.0625000e+00],\n",
       "       [1.0000000e+00, 1.6000000e+00, 2.5600000e+00, 4.0960000e+00,\n",
       "        6.5536000e+00],\n",
       "       [1.0000000e+00, 1.7000000e+00, 2.8900000e+00, 4.9130000e+00,\n",
       "        8.3521000e+00],\n",
       "       [1.0000000e+00, 1.8000000e+00, 3.2400000e+00, 5.8320000e+00,\n",
       "        1.0497600e+01],\n",
       "       [1.0000000e+00, 1.9000000e+00, 3.6100000e+00, 6.8590000e+00,\n",
       "        1.3032100e+01],\n",
       "       [1.0000000e+00, 2.0000000e+00, 4.0000000e+00, 8.0000000e+00,\n",
       "        1.6000000e+01],\n",
       "       [1.0000000e+00, 2.1000000e+00, 4.4100000e+00, 9.2610000e+00,\n",
       "        1.9448100e+01],\n",
       "       [1.0000000e+00, 2.2000000e+00, 4.8400000e+00, 1.0648000e+01,\n",
       "        2.3425600e+01],\n",
       "       [1.0000000e+00, 2.3000000e+00, 5.2900000e+00, 1.2167000e+01,\n",
       "        2.7984100e+01],\n",
       "       [1.0000000e+00, 2.4000000e+00, 5.7600000e+00, 1.3824000e+01,\n",
       "        3.3177600e+01],\n",
       "       [1.0000000e+00, 2.5000000e+00, 6.2500000e+00, 1.5625000e+01,\n",
       "        3.9062500e+01],\n",
       "       [1.0000000e+00, 2.6000000e+00, 6.7600000e+00, 1.7576000e+01,\n",
       "        4.5697600e+01],\n",
       "       [1.0000000e+00, 2.7000000e+00, 7.2900000e+00, 1.9683000e+01,\n",
       "        5.3144100e+01],\n",
       "       [1.0000000e+00, 2.8000000e+00, 7.8400000e+00, 2.1952000e+01,\n",
       "        6.1465600e+01],\n",
       "       [1.0000000e+00, 2.9000000e+00, 8.4100000e+00, 2.4389000e+01,\n",
       "        7.0728100e+01],\n",
       "       [1.0000000e+00, 3.0000000e+00, 9.0000000e+00, 2.7000000e+01,\n",
       "        8.1000000e+01],\n",
       "       [1.0000000e+00, 3.1000000e+00, 9.6100000e+00, 2.9791000e+01,\n",
       "        9.2352100e+01],\n",
       "       [1.0000000e+00, 3.2000000e+00, 1.0240000e+01, 3.2768000e+01,\n",
       "        1.0485760e+02],\n",
       "       [1.0000000e+00, 3.3000000e+00, 1.0890000e+01, 3.5937000e+01,\n",
       "        1.1859210e+02],\n",
       "       [1.0000000e+00, 3.4000000e+00, 1.1560000e+01, 3.9304000e+01,\n",
       "        1.3363360e+02],\n",
       "       [1.0000000e+00, 3.5000000e+00, 1.2250000e+01, 4.2875000e+01,\n",
       "        1.5006250e+02],\n",
       "       [1.0000000e+00, 3.6000000e+00, 1.2960000e+01, 4.6656000e+01,\n",
       "        1.6796160e+02],\n",
       "       [1.0000000e+00, 3.7000000e+00, 1.3690000e+01, 5.0653000e+01,\n",
       "        1.8741610e+02],\n",
       "       [1.0000000e+00, 3.8000000e+00, 1.4440000e+01, 5.4872000e+01,\n",
       "        2.0851360e+02],\n",
       "       [1.0000000e+00, 3.9000000e+00, 1.5210000e+01, 5.9319000e+01,\n",
       "        2.3134410e+02],\n",
       "       [1.0000000e+00, 4.0000000e+00, 1.6000000e+01, 6.4000000e+01,\n",
       "        2.5600000e+02],\n",
       "       [1.0000000e+00, 4.1000000e+00, 1.6810000e+01, 6.8921000e+01,\n",
       "        2.8257610e+02],\n",
       "       [1.0000000e+00, 4.2000000e+00, 1.7640000e+01, 7.4088000e+01,\n",
       "        3.1116960e+02],\n",
       "       [1.0000000e+00, 4.3000000e+00, 1.8490000e+01, 7.9507000e+01,\n",
       "        3.4188010e+02],\n",
       "       [1.0000000e+00, 4.4000000e+00, 1.9360000e+01, 8.5184000e+01,\n",
       "        3.7480960e+02],\n",
       "       [1.0000000e+00, 4.5000000e+00, 2.0250000e+01, 9.1125000e+01,\n",
       "        4.1006250e+02],\n",
       "       [1.0000000e+00, 4.6000000e+00, 2.1160000e+01, 9.7336000e+01,\n",
       "        4.4774560e+02],\n",
       "       [1.0000000e+00, 4.7000000e+00, 2.2090000e+01, 1.0382300e+02,\n",
       "        4.8796810e+02],\n",
       "       [1.0000000e+00, 4.8000000e+00, 2.3040000e+01, 1.1059200e+02,\n",
       "        5.3084160e+02],\n",
       "       [1.0000000e+00, 4.9000000e+00, 2.4010000e+01, 1.1764900e+02,\n",
       "        5.7648010e+02],\n",
       "       [1.0000000e+00, 5.0000000e+00, 2.5000000e+01, 1.2500000e+02,\n",
       "        6.2500000e+02],\n",
       "       [1.0000000e+00, 5.1000000e+00, 2.6010000e+01, 1.3265100e+02,\n",
       "        6.7652010e+02],\n",
       "       [1.0000000e+00, 5.2000000e+00, 2.7040000e+01, 1.4060800e+02,\n",
       "        7.3116160e+02],\n",
       "       [1.0000000e+00, 5.3000000e+00, 2.8090000e+01, 1.4887700e+02,\n",
       "        7.8904810e+02],\n",
       "       [1.0000000e+00, 5.4000000e+00, 2.9160000e+01, 1.5746400e+02,\n",
       "        8.5030560e+02],\n",
       "       [1.0000000e+00, 5.5000000e+00, 3.0250000e+01, 1.6637500e+02,\n",
       "        9.1506250e+02],\n",
       "       [1.0000000e+00, 5.6000000e+00, 3.1360000e+01, 1.7561600e+02,\n",
       "        9.8344960e+02],\n",
       "       [1.0000000e+00, 5.7000000e+00, 3.2490000e+01, 1.8519300e+02,\n",
       "        1.0556001e+03],\n",
       "       [1.0000000e+00, 5.8000000e+00, 3.3640000e+01, 1.9511200e+02,\n",
       "        1.1316496e+03],\n",
       "       [1.0000000e+00, 5.9000000e+00, 3.4810000e+01, 2.0537900e+02,\n",
       "        1.2117361e+03],\n",
       "       [1.0000000e+00, 6.0000000e+00, 3.6000000e+01, 2.1600000e+02,\n",
       "        1.2960000e+03],\n",
       "       [1.0000000e+00, 6.1000000e+00, 3.7210000e+01, 2.2698100e+02,\n",
       "        1.3845841e+03],\n",
       "       [1.0000000e+00, 6.2000000e+00, 3.8440000e+01, 2.3832800e+02,\n",
       "        1.4776336e+03],\n",
       "       [1.0000000e+00, 6.3000000e+00, 3.9690000e+01, 2.5004700e+02,\n",
       "        1.5752961e+03],\n",
       "       [1.0000000e+00, 6.4000000e+00, 4.0960000e+01, 2.6214400e+02,\n",
       "        1.6777216e+03],\n",
       "       [1.0000000e+00, 6.5000000e+00, 4.2250000e+01, 2.7462500e+02,\n",
       "        1.7850625e+03],\n",
       "       [1.0000000e+00, 6.6000000e+00, 4.3560000e+01, 2.8749600e+02,\n",
       "        1.8974736e+03],\n",
       "       [1.0000000e+00, 6.7000000e+00, 4.4890000e+01, 3.0076300e+02,\n",
       "        2.0151121e+03],\n",
       "       [1.0000000e+00, 6.8000000e+00, 4.6240000e+01, 3.1443200e+02,\n",
       "        2.1381376e+03],\n",
       "       [1.0000000e+00, 6.9000000e+00, 4.7610000e+01, 3.2850900e+02,\n",
       "        2.2667121e+03],\n",
       "       [1.0000000e+00, 7.0000000e+00, 4.9000000e+01, 3.4300000e+02,\n",
       "        2.4010000e+03],\n",
       "       [1.0000000e+00, 7.1000000e+00, 5.0410000e+01, 3.5791100e+02,\n",
       "        2.5411681e+03],\n",
       "       [1.0000000e+00, 7.2000000e+00, 5.1840000e+01, 3.7324800e+02,\n",
       "        2.6873856e+03],\n",
       "       [1.0000000e+00, 7.3000000e+00, 5.3290000e+01, 3.8901700e+02,\n",
       "        2.8398241e+03],\n",
       "       [1.0000000e+00, 7.4000000e+00, 5.4760000e+01, 4.0522400e+02,\n",
       "        2.9986576e+03],\n",
       "       [1.0000000e+00, 7.5000000e+00, 5.6250000e+01, 4.2187500e+02,\n",
       "        3.1640625e+03],\n",
       "       [1.0000000e+00, 7.6000000e+00, 5.7760000e+01, 4.3897600e+02,\n",
       "        3.3362176e+03],\n",
       "       [1.0000000e+00, 7.7000000e+00, 5.9290000e+01, 4.5653300e+02,\n",
       "        3.5153041e+03],\n",
       "       [1.0000000e+00, 7.8000000e+00, 6.0840000e+01, 4.7455200e+02,\n",
       "        3.7015056e+03],\n",
       "       [1.0000000e+00, 7.9000000e+00, 6.2410000e+01, 4.9303900e+02,\n",
       "        3.8950081e+03],\n",
       "       [1.0000000e+00, 8.0000000e+00, 6.4000000e+01, 5.1200000e+02,\n",
       "        4.0960000e+03],\n",
       "       [1.0000000e+00, 8.1000000e+00, 6.5610000e+01, 5.3144100e+02,\n",
       "        4.3046721e+03],\n",
       "       [1.0000000e+00, 8.2000000e+00, 6.7240000e+01, 5.5136800e+02,\n",
       "        4.5212176e+03],\n",
       "       [1.0000000e+00, 8.3000000e+00, 6.8890000e+01, 5.7178700e+02,\n",
       "        4.7458321e+03],\n",
       "       [1.0000000e+00, 8.4000000e+00, 7.0560000e+01, 5.9270400e+02,\n",
       "        4.9787136e+03],\n",
       "       [1.0000000e+00, 8.5000000e+00, 7.2250000e+01, 6.1412500e+02,\n",
       "        5.2200625e+03],\n",
       "       [1.0000000e+00, 8.6000000e+00, 7.3960000e+01, 6.3605600e+02,\n",
       "        5.4700816e+03],\n",
       "       [1.0000000e+00, 8.7000000e+00, 7.5690000e+01, 6.5850300e+02,\n",
       "        5.7289761e+03],\n",
       "       [1.0000000e+00, 8.8000000e+00, 7.7440000e+01, 6.8147200e+02,\n",
       "        5.9969536e+03],\n",
       "       [1.0000000e+00, 8.9000000e+00, 7.9210000e+01, 7.0496900e+02,\n",
       "        6.2742241e+03],\n",
       "       [1.0000000e+00, 9.0000000e+00, 8.1000000e+01, 7.2900000e+02,\n",
       "        6.5610000e+03],\n",
       "       [1.0000000e+00, 9.1000000e+00, 8.2810000e+01, 7.5357100e+02,\n",
       "        6.8574961e+03],\n",
       "       [1.0000000e+00, 9.2000000e+00, 8.4640000e+01, 7.7868800e+02,\n",
       "        7.1639296e+03],\n",
       "       [1.0000000e+00, 9.3000000e+00, 8.6490000e+01, 8.0435700e+02,\n",
       "        7.4805201e+03],\n",
       "       [1.0000000e+00, 9.4000000e+00, 8.8360000e+01, 8.3058400e+02,\n",
       "        7.8074896e+03],\n",
       "       [1.0000000e+00, 9.5000000e+00, 9.0250000e+01, 8.5737500e+02,\n",
       "        8.1450625e+03],\n",
       "       [1.0000000e+00, 9.6000000e+00, 9.2160000e+01, 8.8473600e+02,\n",
       "        8.4934656e+03],\n",
       "       [1.0000000e+00, 9.7000000e+00, 9.4090000e+01, 9.1267300e+02,\n",
       "        8.8529281e+03],\n",
       "       [1.0000000e+00, 9.8000000e+00, 9.6040000e+01, 9.4119200e+02,\n",
       "        9.2236816e+03],\n",
       "       [1.0000000e+00, 9.9000000e+00, 9.8010000e+01, 9.7029900e+02,\n",
       "        9.6059601e+03]])"
      ]
     },
     "execution_count": 40,
     "metadata": {},
     "output_type": "execute_result"
    }
   ],
   "source": [
    "X2 = poly.fit_transform(arr)\n",
    "X2"
   ]
  },
  {
   "cell_type": "code",
   "execution_count": 41,
   "id": "bf31b9eb",
   "metadata": {},
   "outputs": [
    {
     "data": {
      "text/plain": [
       "array([ 46159.70006247,  45017.25627675,  44209.19830378,  43711.34809462,\n",
       "        43500.4593185 ,  43554.21736275,  43851.23933289,  44371.07405255,\n",
       "        45094.2020635 ,  46002.03562568,  47076.91871715,  48302.12703411,\n",
       "        49661.86799093,  51141.28072008,  52726.43607222,  54404.33661611,\n",
       "        56162.91663867,  57991.04214498,  59878.51085823,  61816.05221977,\n",
       "        63795.32738909,  65808.92924383,  67850.38237975,  69914.14311078,\n",
       "        71995.59946898,  74091.07120454,  76197.80978582,  78313.99839929,\n",
       "        80438.75194959,  82572.11705949,  84715.07206991,  86869.52703989,\n",
       "        89038.32374664,  91225.23568549,  93434.96806994,  95673.15783161,\n",
       "        97946.37362026, 100262.11580381, 102628.81646831, 105055.83941796,\n",
       "       107553.48017508, 110132.96598017, 112806.45579185, 115587.04028687,\n",
       "       118488.74186015, 121526.51462474, 124716.24441183, 128074.74877075,\n",
       "       131619.77696899, 135370.00999215, 139345.060544  , 143565.47304645,\n",
       "       148052.72363954, 152829.22018147, 157918.30224855, 163344.24113527,\n",
       "       169132.23985424, 175308.43313622, 181899.88743011, 188934.60090296,\n",
       "       196441.50343994, 204450.45664439, 212992.25383778, 222098.62005972,\n",
       "       231802.21206796, 242136.61833841, 253136.3590651 , 264836.88616021,\n",
       "       277274.58325407, 290486.76569515, 304511.68055006, 319388.50660354,\n",
       "       335157.35435849, 351859.26603596, 369536.21557511, 388231.10863327,\n",
       "       407987.7825859 , 428851.00652661, 450866.48126714, 474080.8393374 ,\n",
       "       498541.6449854 , 524297.39417734, 551397.51459752, 579892.3656484 ,\n",
       "       609833.23845059, 641272.35584284, 674262.87238203, 708858.87434318,\n",
       "       745115.37971949, 783088.33822225])"
      ]
     },
     "execution_count": 41,
     "metadata": {},
     "output_type": "execute_result"
    }
   ],
   "source": [
    "y_np = model.predict(X2)\n",
    "y_np"
   ]
  },
  {
   "cell_type": "code",
   "execution_count": 42,
   "id": "e6d3a08f",
   "metadata": {},
   "outputs": [
    {
     "data": {
      "text/plain": [
       "[<matplotlib.lines.Line2D at 0x1c19e256a50>]"
      ]
     },
     "execution_count": 42,
     "metadata": {},
     "output_type": "execute_result"
    },
    {
     "data": {
      "image/png": "[encoded data removed]",
      "text/plain": [
       "<Figure size 640x480 with 1 Axes>"
      ]
     },
     "metadata": {},
     "output_type": "display_data"
    }
   ],
   "source": [
    "plt.scatter(X,Y)\n",
    "plt.scatter(arr,y_np)\n",
    "plt.plot(arr,y_np)"
   ]
  },
  {
   "cell_type": "code",
   "execution_count": 43,
   "id": "d0b1d439",
   "metadata": {},
   "outputs": [
    {
     "data": {
      "text/plain": [
       "[<matplotlib.lines.Line2D at 0x1c19e4a12d0>]"
      ]
     },
     "execution_count": 43,
     "metadata": {},
     "output_type": "execute_result"
    },
    {
     "data": {
      "image/png": "[encoded data removed]",
      "text/plain": [
       "<Figure size 640x480 with 1 Axes>"
      ]
     },
     "metadata": {},
     "output_type": "display_data"
    }
   ],
   "source": [
    "plt.plot(arr,y_np)"
   ]
  },
  {
   "cell_type": "code",
   "execution_count": 44,
   "id": "af4dde02",
   "metadata": {},
   "outputs": [],
   "source": [
    "from sklearn.metrics import r2_score"
   ]
  },
  {
   "cell_type": "code",
   "execution_count": 46,
   "id": "a095945f",
   "metadata": {},
   "outputs": [
    {
     "data": {
      "text/plain": [
       "0.37039779816222085"
      ]
     },
     "execution_count": 46,
     "metadata": {},
     "output_type": "execute_result"
    }
   ],
   "source": [
    "r2_score(y_test,y_predict)"
   ]
  },
  {
   "cell_type": "code",
   "execution_count": 47,
   "id": "68d68eec",
   "metadata": {},
   "outputs": [
    {
     "data": {
      "text/plain": [
       "0.9414282614579933"
      ]
     },
     "execution_count": 47,
     "metadata": {},
     "output_type": "execute_result"
    }
   ],
   "source": [
    "r2_score(y_test,y_poly_predict)"
   ]
  },
  {
   "cell_type": "code",
   "execution_count": null,
   "id": "399e0c4d",
   "metadata": {},
   "outputs": [],
   "source": []
  },
  {
   "cell_type": "code",
   "execution_count": null,
   "id": "6a4d66d5",
   "metadata": {},
   "outputs": [],
   "source": []
  }
 ],
 "metadata": {
  "kernelspec": {
   "display_name": "Python 3 (ipykernel)",
   "language": "python",
   "name": "python3"
  },
  "language_info": {
   "codemirror_mode": {
    "name": "ipython",
    "version": 3
   },
   "file_extension": ".py",
   "mimetype": "text/x-python",
   "name": "python",
   "nbconvert_exporter": "python",
   "pygments_lexer": "ipython3",
   "version": "3.11.5"
  }
 },
 "nbformat": 4,
 "nbformat_minor": 5
}
